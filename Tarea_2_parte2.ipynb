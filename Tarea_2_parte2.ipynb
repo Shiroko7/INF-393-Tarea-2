{
 "cells": [
  {
   "cell_type": "markdown",
   "metadata": {},
   "source": [
    "## 2. Problema de Múltiples Anotaciones"
   ]
  },
  {
   "cell_type": "code",
   "execution_count": 2,
   "metadata": {},
   "outputs": [],
   "source": [
    "import pandas as pd\n",
    "import numpy as np\n",
    "import matplotlib.pyplot as plt\n",
    "from sklearn.metrics import accuracy_score"
   ]
  },
  {
   "cell_type": "code",
   "execution_count": 3,
   "metadata": {},
   "outputs": [
    {
     "data": {
      "text/html": [
       "<div>\n",
       "<style scoped>\n",
       "    .dataframe tbody tr th:only-of-type {\n",
       "        vertical-align: middle;\n",
       "    }\n",
       "\n",
       "    .dataframe tbody tr th {\n",
       "        vertical-align: top;\n",
       "    }\n",
       "\n",
       "    .dataframe thead th {\n",
       "        text-align: right;\n",
       "    }\n",
       "</style>\n",
       "<table border=\"1\" class=\"dataframe\">\n",
       "  <thead>\n",
       "    <tr style=\"text-align: right;\">\n",
       "      <th></th>\n",
       "      <th>WorkerId</th>\n",
       "      <th>Input.id</th>\n",
       "      <th>Input.original_sentence</th>\n",
       "      <th>Input.stemmed_sent</th>\n",
       "      <th>Input.true_sent</th>\n",
       "      <th>Answer.sent</th>\n",
       "      <th>dif</th>\n",
       "    </tr>\n",
       "  </thead>\n",
       "  <tbody>\n",
       "    <tr>\n",
       "      <th>0</th>\n",
       "      <td>A2HD5XMM48KKJW</td>\n",
       "      <td>4518</td>\n",
       "      <td>the cast is phenomenal , especially the women .</td>\n",
       "      <td>cast phenomen especi women</td>\n",
       "      <td>1</td>\n",
       "      <td>1</td>\n",
       "      <td>True</td>\n",
       "    </tr>\n",
       "    <tr>\n",
       "      <th>1</th>\n",
       "      <td>A2HD5XMM48KKJW</td>\n",
       "      <td>10415</td>\n",
       "      <td>the metaphors are provocative , but too often ...</td>\n",
       "      <td>metaphor provoc often viewer left puzzl mechan...</td>\n",
       "      <td>-1</td>\n",
       "      <td>-1</td>\n",
       "      <td>True</td>\n",
       "    </tr>\n",
       "    <tr>\n",
       "      <th>2</th>\n",
       "      <td>A2HD5XMM48KKJW</td>\n",
       "      <td>7098</td>\n",
       "      <td>while there's something intrinsically funny ab...</td>\n",
       "      <td>there someth intrins funni sir anthoni hopkin ...</td>\n",
       "      <td>-1</td>\n",
       "      <td>1</td>\n",
       "      <td>False</td>\n",
       "    </tr>\n",
       "    <tr>\n",
       "      <th>3</th>\n",
       "      <td>A2HD5XMM48KKJW</td>\n",
       "      <td>4396</td>\n",
       "      <td>a harrowing account of a psychological breakdo...</td>\n",
       "      <td>harrow account psycholog breakdown</td>\n",
       "      <td>1</td>\n",
       "      <td>-1</td>\n",
       "      <td>False</td>\n",
       "    </tr>\n",
       "    <tr>\n",
       "      <th>4</th>\n",
       "      <td>A2HD5XMM48KKJW</td>\n",
       "      <td>2812</td>\n",
       "      <td>. . . a visually seductive , unrepentantly tr...</td>\n",
       "      <td>visual seduct unrepentantli trashi rice instal...</td>\n",
       "      <td>1</td>\n",
       "      <td>1</td>\n",
       "      <td>True</td>\n",
       "    </tr>\n",
       "  </tbody>\n",
       "</table>\n",
       "</div>"
      ],
      "text/plain": [
       "         WorkerId  Input.id  \\\n",
       "0  A2HD5XMM48KKJW      4518   \n",
       "1  A2HD5XMM48KKJW     10415   \n",
       "2  A2HD5XMM48KKJW      7098   \n",
       "3  A2HD5XMM48KKJW      4396   \n",
       "4  A2HD5XMM48KKJW      2812   \n",
       "\n",
       "                             Input.original_sentence  \\\n",
       "0   the cast is phenomenal , especially the women .    \n",
       "1  the metaphors are provocative , but too often ...   \n",
       "2  while there's something intrinsically funny ab...   \n",
       "3  a harrowing account of a psychological breakdo...   \n",
       "4   . . . a visually seductive , unrepentantly tr...   \n",
       "\n",
       "                                  Input.stemmed_sent Input.true_sent  \\\n",
       "0                         cast phenomen especi women               1   \n",
       "1  metaphor provoc often viewer left puzzl mechan...              -1   \n",
       "2  there someth intrins funni sir anthoni hopkin ...              -1   \n",
       "3                 harrow account psycholog breakdown               1   \n",
       "4  visual seduct unrepentantli trashi rice instal...               1   \n",
       "\n",
       "  Answer.sent    dif  \n",
       "0           1   True  \n",
       "1          -1   True  \n",
       "2           1  False  \n",
       "3          -1  False  \n",
       "4           1   True  "
      ]
     },
     "execution_count": 3,
     "metadata": {},
     "output_type": "execute_result"
    }
   ],
   "source": [
    "df = pd.read_csv(\"./sentiment_polarity/mturk_answers.csv\")\n",
    "df['dif'] = df['Input.true_sent'] == df['Answer.sent']\n",
    "df['Input.true_sent'] = np.where(df['Input.true_sent'] == 'pos', 1, df['Input.true_sent'])\n",
    "df['Input.true_sent'] = np.where(df['Input.true_sent'] == 'neg', -1, df['Input.true_sent'])\n",
    "\n",
    "df['Answer.sent'] = np.where(df['Answer.sent'] == 'pos', 1, df['Answer.sent'])\n",
    "df['Answer.sent'] = np.where(df['Answer.sent'] == 'neg', -1, df['Answer.sent'])\n",
    "\n",
    "df.head()"
   ]
  },
  {
   "cell_type": "markdown",
   "metadata": {},
   "source": [
    "Para trabajar el problema se usara la etiqueta 1 para marcar la clase positiva y -1 para la negativa. Se agrega la columa dif para calcular evaluar de manera sencilla el modelo y no es utilizada en ninguna parte del entrenamiento."
   ]
  },
  {
   "cell_type": "code",
   "execution_count": 32,
   "metadata": {},
   "outputs": [
    {
     "name": "stdout",
     "output_type": "stream",
     "text": [
      "Trabajadores:  203\n",
      "Entradas:  27746\n",
      "Entradas/Trabajador:  136 mediana: 40.0\n",
      "Inputs/Trabajador:  24\n"
     ]
    }
   ],
   "source": [
    "print(\"Trabajadores: \",len(df['WorkerId'].unique()))\n",
    "print(\"Entradas: \", len(df))\n",
    "print(\"Entradas/Trabajador: \", len(df) // len(df['WorkerId'].unique()), str('mediana: ') + str(df['WorkerId'].value_counts().median()))\n",
    "print(\"Inputs/Trabajador: \", len(inputs) // len(df['WorkerId'].unique()))"
   ]
  },
  {
   "cell_type": "markdown",
   "metadata": {},
   "source": [
    "La mediana de entradas por trabajador es tres veces menor al promedio. Esto significa que la cantidad de trabajo realizada por trabajador no sigue una distribución normal, y existen outliers considerables en la data."
   ]
  },
  {
   "cell_type": "code",
   "execution_count": 22,
   "metadata": {},
   "outputs": [
    {
     "data": {
      "text/plain": [
       "Text(0.5,1,'Worker distribution')"
      ]
     },
     "execution_count": 22,
     "metadata": {},
     "output_type": "execute_result"
    },
    {
     "data": {
      "image/png": "[encoded data removed]",
      "text/plain": [
       "<Figure size 1152x576 with 1 Axes>"
      ]
     },
     "metadata": {},
     "output_type": "display_data"
    }
   ],
   "source": [
    "plt.figure(figsize=(16, 8))\n",
    "df['WorkerId'].value_counts().plot(kind='box')\n",
    "plt.title(\"Worker distribution\")"
   ]
  },
  {
   "cell_type": "code",
   "execution_count": 23,
   "metadata": {},
   "outputs": [
    {
     "data": {
      "text/plain": [
       "Text(0.5,1,'Inputs distribution')"
      ]
     },
     "execution_count": 23,
     "metadata": {},
     "output_type": "execute_result"
    },
    {
     "data": {
      "image/png": "[encoded data removed]",
      "text/plain": [
       "<Figure size 1152x576 with 1 Axes>"
      ]
     },
     "metadata": {},
     "output_type": "display_data"
    }
   ],
   "source": [
    "plt.figure(figsize=(16, 8))\n",
    "df['Input.id'].value_counts().plot(kind='box')\n",
    "plt.title(\"Inputs distribution\")"
   ]
  },
  {
   "cell_type": "markdown",
   "metadata": {},
   "source": [
    "Efectivamente hay trabajadores muy atípicos en el set, los usuarios en general hacen entre 30 y 400 clasificaciones, pero hay casos no menores de trabajadores que han hecho miles. Por otro lado se puede ver que los comentarios no son etiquetados por muchas personas, pese a la cantidad de trabajodores la media esta entre 5 y 6 trabajodres en un set de 203."
   ]
  },
  {
   "cell_type": "markdown",
   "metadata": {},
   "source": [
    "Dado que no conocemos el valor real de la clase, solo podemos estimar mediante algun tipo de votación entre los participantes que clasificaron cada comentario. La manera más sencilla de realizar esto es por medio de una votación y elegir la clase por mayoría de votos, sin embargo la cantidad de gente que esta votando es considerablemente poca, incluso solo tomando en cuenta la población de trabajadores.\n",
    "\n",
    "En un intento para mitigar la posible desviación o incluso empates en multiples casos, se ponderara la opinion de cada trabajador basado en un ranking. Este ranking sera basado solo en la cantidad de clasificaciones que ha hecho, dado que existe un número considerable de trabajadores que ha etiquetado mucho más que el usuario promedio su opinión se considerara más valiosa. Asumiremos que estos dos supuestos son verdad: Un trabajador efectivamente puede mejorar su desempeño o ganar experiencia en cuanto más clasifique; Y ningun trabajador esta etiquetando de manera aleatoria.\n",
    "\n",
    "El ranking se transformara en un puntaje (score) asociado a cada ID del trabajador. Los empates en número de clasificaciones realizadas se traduciran en compartir el rank y por ende score. Dado que existen usuarios que han realizado mil más trabajos que otros no se usara una ponderación directa, si no que con el número asociado al rank se calculara el score como una partición de números del 1.0 al 0.34 equidistante con la cantidad de ranks, es decir:\n",
    "\n",
    "$$rank_i = \\frac{(N_{ranks}- i)\\cdot(1.0-0.34)}{(N_{ranks}+1)}$$\n",
    "\n",
    "Donde i es la posición en el ranking. El intervalo $]0.34,1.0[$ se traduce a que el trabajador con mayor experencias pesa hasta tres veces más en una votación que el de menor experiencia. La razón para utilizar esto es para que en ningun caso un trabajador por su cuenta decida el valor de la etiqueta, esto se cumple ya que el comentario con menor clasificaciones es de cuatro usuarios."
   ]
  },
  {
   "cell_type": "code",
   "execution_count": 33,
   "metadata": {},
   "outputs": [],
   "source": [
    "workers_rank = df['WorkerId'].value_counts().rank(method = 'min',ascending=False)\n",
    "scores = np.arange(0.34,1.0,(1.0-0.34)/159)[::-1]\n",
    "workers_score=dict()\n",
    "i=0\n",
    "for worker,rank in workers_rank.iteritems():\n",
    "    workers_score[worker] = scores[int(rank)-1]\n",
    "    i=i+1\n"
   ]
  },
  {
   "cell_type": "code",
   "execution_count": 34,
   "metadata": {},
   "outputs": [],
   "source": [
    "inputs = df['Input.id'].unique()\n",
    "inputs_simple_prediction = dict()\n",
    "inputs_mayoria_prediction = dict()\n",
    "inputs_truth = dict()\n",
    "for inp in inputs:\n",
    "    df_inp = df[df['Input.id'] == inp]\n",
    "    rate = 0\n",
    "    rate_mayoria = 0 \n",
    "    for index, row in df_inp.iterrows():\n",
    "        rate = rate + row['Answer.sent']*workers_score[row['WorkerId']]\n",
    "        rate_mayoria = rate + row['Answer.sent']\n",
    "    if rate > 0:\n",
    "        inputs_simple_prediction[inp] = 1\n",
    "    else:\n",
    "        inputs_simple_prediction[inp] = -1\n",
    "    if rate_mayoria > 0:\n",
    "        inputs_mayoria_prediction[inp] = 1\n",
    "    else:\n",
    "        inputs_mayoria_prediction[inp] = -1\n",
    "        \n",
    "    inputs_truth[inp] = row['Input.true_sent']"
   ]
  },
  {
   "cell_type": "code",
   "execution_count": 35,
   "metadata": {},
   "outputs": [
    {
     "name": "stdout",
     "output_type": "stream",
     "text": [
      "Score predicción simple ponderada:  0.884\n",
      "Score predicción simple mayoría:  0.8696\n"
     ]
    }
   ],
   "source": [
    "y_simple_pred = list()\n",
    "y_mayoria_pred = list()\n",
    "y_true = list()\n",
    "for key in inputs_truth.keys():\n",
    "    y_simple_pred.append(inputs_simple_prediction[key])\n",
    "    y_mayoria_pred.append(inputs_mayoria_prediction[key])\n",
    "    y_true.append(inputs_truth[key]) \n",
    "\n",
    "print('Score predicción simple ponderada: ', round(accuracy_score(y_true=y_true,y_pred=y_simple_pred),4))\n",
    "print('Score predicción simple mayoría: ', round(accuracy_score(y_true=y_true,y_pred=y_mayoria_pred),4))\n"
   ]
  },
  {
   "cell_type": "markdown",
   "metadata": {},
   "source": [
    "Antes de comenzar a trabajar con un modelo de aprendizaje automático, se calcula como referencia el valor \"máximo\" de precisión de solo realizar la votación sin ningun modelo de por medio. Efectivamente la votación ponderada es mejor, no por mucho lamentablemente. Aún así es una mejora y en otro contexto podría tener un gap mayor, pero en este caso no se necesitan trabajodores expertos para etiquetar un comentario como positivo o negativo, de por si solo la exactitud es buena. Se proseguira de todas formas a usar la votación por ponderación ya que sigue siendo estrictamente mejor."
   ]
  },
  {
   "cell_type": "code",
   "execution_count": 39,
   "metadata": {},
   "outputs": [],
   "source": [
    "# usar inputs_simple_prediction como label de estimated grounded truth(osea la wea pa entrenar)"
   ]
  }
 ],
 "metadata": {
  "kernelspec": {
   "display_name": "Python 3",
   "language": "python",
   "name": "python3"
  },
  "language_info": {
   "codemirror_mode": {
    "name": "ipython",
    "version": 3
   },
   "file_extension": ".py",
   "mimetype": "text/x-python",
   "name": "python",
   "nbconvert_exporter": "python",
   "pygments_lexer": "ipython3",
   "version": "3.6.5"
  }
 },
 "nbformat": 4,
 "nbformat_minor": 2
}
